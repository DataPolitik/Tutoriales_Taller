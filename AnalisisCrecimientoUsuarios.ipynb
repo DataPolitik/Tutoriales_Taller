{
 "cells": [
  {
   "cell_type": "code",
   "execution_count": 9,
   "id": "54423af8",
   "metadata": {},
   "outputs": [],
   "source": [
    "import networkx as nx\n",
    "import pandas as pd\n",
    "import numpy as np"
   ]
  },
  {
   "cell_type": "code",
   "execution_count": 24,
   "id": "c6da44f0",
   "metadata": {},
   "outputs": [],
   "source": [
    "G=nx.read_gexf('../../twitterderecha/voxcumple/voxcumple_may22.gexf')"
   ]
  },
  {
   "cell_type": "code",
   "execution_count": 25,
   "id": "f661ab3e",
   "metadata": {},
   "outputs": [],
   "source": [
    "nodes=pd.DataFrame.from_dict(dict(G.nodes(data=\"start_date\", default=1)),orient='index')"
   ]
  },
  {
   "cell_type": "code",
   "execution_count": 26,
   "id": "dec27e35",
   "metadata": {},
   "outputs": [],
   "source": [
    "nodes[0] = pd.to_datetime(nodes[0])"
   ]
  },
  {
   "cell_type": "code",
   "execution_count": 27,
   "id": "a42c56d7",
   "metadata": {},
   "outputs": [],
   "source": [
    "ones=np.ones(len(nodes))\n",
    "nodes['count']=ones"
   ]
  },
  {
   "cell_type": "code",
   "execution_count": 28,
   "id": "c8bf9efa",
   "metadata": {},
   "outputs": [],
   "source": [
    "nodes.set_index(nodes[0], inplace = True)\n",
    "nu = nodes['count']\n",
    "\n",
    "nu = nu.sort_index()"
   ]
  },
  {
   "cell_type": "code",
   "execution_count": 51,
   "id": "3d5f39ea",
   "metadata": {},
   "outputs": [],
   "source": [
    "ts=nu.resample('H').sum().cumsum()"
   ]
  },
  {
   "cell_type": "code",
   "execution_count": 52,
   "id": "07bc5fd9",
   "metadata": {},
   "outputs": [
    {
     "data": {
      "text/plain": [
       "<AxesSubplot:xlabel='0'>"
      ]
     },
     "execution_count": 52,
     "metadata": {},
     "output_type": "execute_result"
    },
    {
     "data": {
      "image/png": "[encoded data removed]",
      "text/plain": [
       "<Figure size 432x288 with 1 Axes>"
      ]
     },
     "metadata": {
      "needs_background": "light"
     },
     "output_type": "display_data"
    }
   ],
   "source": [
    "import matplotlib.pyplot as plt\n",
    "ts.plot(style='.')\n",
    "ts.plot()\n"
   ]
  },
  {
   "cell_type": "code",
   "execution_count": null,
   "id": "d0413784",
   "metadata": {},
   "outputs": [],
   "source": []
  }
 ],
 "metadata": {
  "kernelspec": {
   "display_name": "Python 3 (ipykernel)",
   "language": "python",
   "name": "python3"
  },
  "language_info": {
   "codemirror_mode": {
    "name": "ipython",
    "version": 3
   },
   "file_extension": ".py",
   "mimetype": "text/x-python",
   "name": "python",
   "nbconvert_exporter": "python",
   "pygments_lexer": "ipython3",
   "version": "3.8.10"
  }
 },
 "nbformat": 4,
 "nbformat_minor": 5
}

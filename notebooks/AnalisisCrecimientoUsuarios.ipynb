{
 "cells": [
  {
   "cell_type": "markdown",
   "id": "d89e802c",
   "metadata": {},
   "source": [
    "# Análisis de crecimiento de usuarios en conversaciones de Twittter.\n",
    "\n",
    "## Éste notebook es parte del material para el taller de  **análisis de narrativas emergentes, discurso de odio y desinformación en red** desarollado por **Heurística** dentro del projecto DataPolitik.\n",
    "\n",
    "Permite analizar el crecimiento de los usuarios implicados en una discusión de Twitter.\n",
    "\n",
    "## Cómo obtener los datos\n",
    "\n",
    "El tipo de análisis que vamos a desarrollar en este notebook será útil para los casos en que queremos:\n",
    "\n",
    "- análizar el alcance de una campaña\n",
    "- monitorear la emergencia o el estancamiento de narrativas\n",
    "\n",
    "En cada uno de estos casos empezamos con una pregunta más o menos abstracta, el siguiente paso es entender cómo traducir ésta pregunta a una consulta de búsqueda en la API de Twitter.\n",
    "\n",
    "Se pueden dar dos casos:\n",
    "\n",
    " - el tema que queremos estudiar está identificado con un hashtag\n",
    " - el tema que queremos estudiar es más amplio y/o difuso.\n",
    " \n",
    "En el primer caso nuestra consulta será simplemente el hashtag en cuestión. \n",
    "En el segundo, tendremos que encontrar un conjunto de palabras claves (y de combinaciones entre ellas) que nos permitan capturar una parte representativa de los tweets y retweets sobre el tema. \n",
    "\n",
    "Existen varias herramientas para ejecutar consultas a la API de Twitter, en éste caso asumimos que los hemos obtenidos usando el comando [search](https://twarc-project.readthedocs.io/en/latest/twarc2_en_us/#counts) de [twarc2](https://twarc-project.readthedocs.io/en/latest/twarc2_en_us/) y que hemos generado un grafo en formato gexf con el comando [twarc2 network](https://pypi.org/project/twarc-network/).\n",
    "\n",
    "\n"
   ]
  },
  {
   "cell_type": "markdown",
   "id": "bb182f61",
   "metadata": {},
   "source": [
    "# Configuración del notebook\n",
    "\n",
    "La celda siguiente contiene todos los *import* de las librerias necesarias para la sesión y la configuración de estilo para las graficas. "
   ]
  },
  {
   "cell_type": "code",
   "execution_count": 1,
   "id": "54423af8",
   "metadata": {},
   "outputs": [],
   "source": [
    "import networkx as nx\n",
    "import pandas as pd\n",
    "import numpy as np"
   ]
  },
  {
   "cell_type": "markdown",
   "id": "2de83146",
   "metadata": {},
   "source": [
    "# Carga de datos\n",
    "\n",
    "En primer lugar, cargamos el conjunto de datos. Por cuestiones de comodidad vamos a cargar los datos en formato de grafo tal y como los generas el plugin [twarc-network](https://pypi.org/project/twarc-network/) y guardados en formato gexf.\n",
    "\n"
   ]
  },
  {
   "cell_type": "code",
   "execution_count": 2,
   "id": "c6da44f0",
   "metadata": {},
   "outputs": [],
   "source": [
    "G=nx.read_gexf('../datos/grafos/12O_2017.gexf')"
   ]
  },
  {
   "cell_type": "markdown",
   "id": "eff0add0",
   "metadata": {},
   "source": [
    "creamos un *dataframe* con la lista de usuarios y las fechas de su primera aparición en la discusión."
   ]
  },
  {
   "cell_type": "code",
   "execution_count": 3,
   "id": "f661ab3e",
   "metadata": {},
   "outputs": [],
   "source": [
    "nodes=pd.DataFrame.from_dict(dict(G.nodes(data=\"start_date\", default=1)),orient='index')"
   ]
  },
  {
   "cell_type": "code",
   "execution_count": 4,
   "id": "78f51deb",
   "metadata": {},
   "outputs": [
    {
     "data": {
      "text/html": [
       "<div>\n",
       "<style scoped>\n",
       "    .dataframe tbody tr th:only-of-type {\n",
       "        vertical-align: middle;\n",
       "    }\n",
       "\n",
       "    .dataframe tbody tr th {\n",
       "        vertical-align: top;\n",
       "    }\n",
       "\n",
       "    .dataframe thead th {\n",
       "        text-align: right;\n",
       "    }\n",
       "</style>\n",
       "<table border=\"1\" class=\"dataframe\">\n",
       "  <thead>\n",
       "    <tr style=\"text-align: right;\">\n",
       "      <th></th>\n",
       "      <th>0</th>\n",
       "    </tr>\n",
       "  </thead>\n",
       "  <tbody>\n",
       "    <tr>\n",
       "      <th>lamarionamiret</th>\n",
       "      <td>12/10/2017 07:32:34</td>\n",
       "    </tr>\n",
       "    <tr>\n",
       "      <th>KRLS</th>\n",
       "      <td>12/10/2017 00:02:39</td>\n",
       "    </tr>\n",
       "    <tr>\n",
       "      <th>agustinperezok</th>\n",
       "      <td>12/10/2017 23:59:59</td>\n",
       "    </tr>\n",
       "    <tr>\n",
       "      <th>elchiringuitotv</th>\n",
       "      <td>12/10/2017 00:10:50</td>\n",
       "    </tr>\n",
       "    <tr>\n",
       "      <th>CarlesFite</th>\n",
       "      <td>12/10/2017 06:05:01</td>\n",
       "    </tr>\n",
       "  </tbody>\n",
       "</table>\n",
       "</div>"
      ],
      "text/plain": [
       "                                   0\n",
       "lamarionamiret   12/10/2017 07:32:34\n",
       "KRLS             12/10/2017 00:02:39\n",
       "agustinperezok   12/10/2017 23:59:59\n",
       "elchiringuitotv  12/10/2017 00:10:50\n",
       "CarlesFite       12/10/2017 06:05:01"
      ]
     },
     "execution_count": 4,
     "metadata": {},
     "output_type": "execute_result"
    }
   ],
   "source": [
    "nodes.head()"
   ]
  },
  {
   "cell_type": "markdown",
   "id": "66219690",
   "metadata": {},
   "source": [
    "preparamos el *dataframe* de manera que podamos usarlo para graficar el crecimiento de usuarios"
   ]
  },
  {
   "cell_type": "code",
   "execution_count": 5,
   "id": "dec27e35",
   "metadata": {},
   "outputs": [],
   "source": [
    "nodes[0] = pd.to_datetime(nodes[0],format=\"%d/%m/%Y %H:%M:%S\")"
   ]
  },
  {
   "cell_type": "code",
   "execution_count": 6,
   "id": "a42c56d7",
   "metadata": {},
   "outputs": [],
   "source": [
    "ones=np.ones(len(nodes))\n",
    "nodes['count']=ones"
   ]
  },
  {
   "cell_type": "code",
   "execution_count": 7,
   "id": "c8bf9efa",
   "metadata": {},
   "outputs": [],
   "source": [
    "nodes.set_index(nodes[0], inplace = True)\n",
    "nu = nodes['count']\n",
    "\n",
    "nu = nu.sort_index()"
   ]
  },
  {
   "cell_type": "markdown",
   "id": "5c079462",
   "metadata": {},
   "source": [
    "creamos una *serie temporal* que represente el crecimiento de usuarios con una granularidad dada, en este ejemplo de horas. Algunos valores admisible son:\n",
    "- horas: H\n",
    "- dias: D\n",
    "- semanas: W"
   ]
  },
  {
   "cell_type": "code",
   "execution_count": 8,
   "id": "3d5f39ea",
   "metadata": {},
   "outputs": [],
   "source": [
    "ts=nu.resample('H').sum().cumsum()"
   ]
  },
  {
   "cell_type": "code",
   "execution_count": 9,
   "id": "07bc5fd9",
   "metadata": {},
   "outputs": [
    {
     "data": {
      "text/plain": [
       "<AxesSubplot:xlabel='0'>"
      ]
     },
     "execution_count": 9,
     "metadata": {},
     "output_type": "execute_result"
    },
    {
     "data": {
      "image/png": "[encoded data removed]",
      "text/plain": [
       "<Figure size 432x288 with 1 Axes>"
      ]
     },
     "metadata": {
      "needs_background": "light"
     },
     "output_type": "display_data"
    }
   ],
   "source": [
    "import matplotlib.pyplot as plt\n",
    "ts.plot(style='.')\n",
    "ts.plot()\n"
   ]
  }
 ],
 "metadata": {
  "kernelspec": {
   "display_name": "Python 3 (ipykernel)",
   "language": "python",
   "name": "python3"
  },
  "language_info": {
   "codemirror_mode": {
    "name": "ipython",
    "version": 3
   },
   "file_extension": ".py",
   "mimetype": "text/x-python",
   "name": "python",
   "nbconvert_exporter": "python",
   "pygments_lexer": "ipython3",
   "version": "3.8.10"
  }
 },
 "nbformat": 4,
 "nbformat_minor": 5
}

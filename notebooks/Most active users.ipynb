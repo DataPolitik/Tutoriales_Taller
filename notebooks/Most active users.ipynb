{
 "cells": [
  {
   "cell_type": "markdown",
   "metadata": {},
   "source": [
    "# Análisis de usuarios más activos en una conversaciones de Twittter.\n",
    "\n",
    "## Éste notebook es parte del material para el taller de  **análisis de narrativas emergentes, discurso de odio y desinformación en red** desarollado por **Heurística** dentro del projecto DataPolitik.\n",
    "\n",
    "Permite analizar más activo en una discusión de Twitter y obtener sus scores de [Botometer](https://botometer.osome.iu.edu/) si se dispone de acceso a la [API](https://botometer.osome.iu.edu/api).\n",
    "\n",
    "## Cómo obtener los datos\n",
    "\n",
    "El tipo de análisis que vamos a desarrollar en este notebook será útil para los casos en que queremos:\n",
    "\n",
    "- análizar el alcance de una campaña\n",
    "- monitorear la emergencia o el estancamiento de narrativas\n",
    "\n",
    "En cada uno de estos casos empezamos con una pregunta más o menos abstracta, el siguiente paso es entender cómo traducir ésta pregunta a una consulta de búsqueda en la API de Twitter.\n",
    "\n",
    "Se pueden dar dos casos:\n",
    "\n",
    " - el tema que queremos estudiar está identificado con un hashtag\n",
    " - el tema que queremos estudiar es más amplio y/o difuso.\n",
    " \n",
    "En el primer caso nuestra consulta será simplemente el hashtag en cuestión. \n",
    "En el segundo, tendremos que encontrar un conjunto de palabras claves (y de combinaciones entre ellas) que nos permitan capturar una parte representativa de los tweets y retweets sobre el tema. \n",
    "\n",
    "Existen varias herramientas para ejecutar consultas a la API de Twitter, en éste caso asumimos que los hemos obtenidos usando el comando [search](https://twarc-project.readthedocs.io/en/latest/twarc2_en_us/#counts) de [twarc2](https://twarc-project.readthedocs.io/en/latest/twarc2_en_us/)."
   ]
  },
  {
   "cell_type": "markdown",
   "metadata": {},
   "source": [
    "# Configuración del notebook\n",
    "\n",
    "La celda siguiente contiene todos los *import* de las librerias necesarias para la sesión y la configuración de estilo para las graficas. "
   ]
  },
  {
   "cell_type": "code",
   "execution_count": 1,
   "metadata": {},
   "outputs": [
    {
     "name": "stderr",
     "output_type": "stream",
     "text": [
      "/home/emanuele/.local/lib/python3.8/site-packages/tqdm/auto.py:22: TqdmWarning: IProgress not found. Please update jupyter and ipywidgets. See https://ipywidgets.readthedocs.io/en/stable/user_install.html\n",
      "  from .autonotebook import tqdm as notebook_tqdm\n"
     ]
    }
   ],
   "source": [
    "import pandas as pd\n",
    "import json\n",
    "import botometer\n",
    "import numpy as np\n",
    "from twarc import ensure_flattened\n",
    "from io import TextIOWrapper"
   ]
  },
  {
   "cell_type": "markdown",
   "metadata": {},
   "source": [
    "En la celda siguiente hay que ingresar las claves para la API de Botometer si se dispone de acceso. "
   ]
  },
  {
   "cell_type": "code",
   "execution_count": 2,
   "metadata": {},
   "outputs": [],
   "source": [
    "rapidapi_key = \"\"\n",
    "twitter_app_auth = {\n",
    "    'consumer_key': '',\n",
    "    'consumer_secret': '',\n",
    "    'access_token': '',\n",
    "    'access_token_secret': '',\n",
    "  }\n",
    "botometer_api_url = 'https://botometer-pro.p.mashape.com'\n",
    "bom = botometer.Botometer(wait_on_ratelimit=True,\n",
    "                          rapidapi_key=rapidapi_key,\n",
    "                          **twitter_app_auth)"
   ]
  },
  {
   "cell_type": "markdown",
   "metadata": {},
   "source": [
    "La celda siguiente prepara el formato de datos. "
   ]
  },
  {
   "cell_type": "code",
   "execution_count": 3,
   "metadata": {},
   "outputs": [],
   "source": [
    "class most_active_user(object):\n",
    "    def __init__(self, name,tweets,tot_tweets):\n",
    "        self.username=name\n",
    "        self.profile_image=tweets.iloc[0]['author.profile_image_url']\n",
    "        self.id=tweets.iloc[0]['author.id']\n",
    "        self.created_at=tweets.iloc[0]['author.created_at']\n",
    "        self.description=tweets.iloc[0]['author.description']\n",
    "        self.tot_activity=tweets['text'].count()/float(tot_tweets)*100\n",
    "        self.rt=self.rt_c(tweets)\n",
    "        self.t=int(tot_tweets*self.tot_activity/100-self.rt)\n",
    "        #self.botscore=self.botometerscore(tweets.iloc[0]['author.id']) #DECOMENTAR ESTA LÍNEA SI SE QUIERE USAR BOTOMETER\n",
    "    def rt_c(self,tweets):\n",
    "        count=0\n",
    "        for row in tweets.iterrows():\n",
    "            if type(row[1]['referenced_tweets'])==list and len(row[1]['referenced_tweets'])==1:\n",
    "                \n",
    "                \n",
    "                if not pd.isna(row[1]['referenced_tweets']):\n",
    "                    if row[1]['referenced_tweets'][0]['type']=='retweeted':\n",
    "                        count+=1\n",
    "        return count\n",
    "    def botometerscore(self,uid):\n",
    "        result = bom.check_account(uid)\n",
    "        return result['cap']['universal']\n",
    "    def to_dict(self):\n",
    "        return {\n",
    "            'username': self.username,\n",
    "            'profile mage':self.profile_image,\n",
    "            'twitter id': self.id,\n",
    "            'created_at': self.created_at,\n",
    "            'description': self.description,\n",
    "            'activity share(%)': round(self.tot_activity,2),\n",
    "            'retweets': self.rt,\n",
    "            'tweets': self.t\n",
    "            #'botometer score': self.botscore #DECOMENTAR ESTA LÍNEA SI SE QUIERE USAR BOTOMETER\n",
    "        }"
   ]
  },
  {
   "cell_type": "markdown",
   "metadata": {},
   "source": [
    "# Carga y preparación de los datos\n",
    "\n",
    "En primer lugar, cargamos el conjunto de datos. \n"
   ]
  },
  {
   "cell_type": "code",
   "execution_count": 4,
   "metadata": {},
   "outputs": [],
   "source": [
    "results=[]\n",
    "with open('../../racismo_datapolitik/Badaoui.jsonl', 'r') as json_file:\n",
    "    json_list = list(json_file)\n",
    "\n",
    "for line in json_list:\n",
    "    data = json.loads(line)\n",
    "    for tweet in ensure_flattened(data):\n",
    "        results.append(tweet)"
   ]
  },
  {
   "cell_type": "code",
   "execution_count": 5,
   "metadata": {},
   "outputs": [],
   "source": [
    "datadf=pd.json_normalize(results)"
   ]
  },
  {
   "cell_type": "code",
   "execution_count": 6,
   "metadata": {},
   "outputs": [],
   "source": [
    "activity_ordered_users=datadf.groupby('author.username')['id'].nunique().sort_values(ascending=False).reset_index(name='count')"
   ]
  },
  {
   "cell_type": "markdown",
   "metadata": {},
   "source": [
    "Hemos obtenidos una tabla con todos los usuarios ordenados por el numero de tuits y retuits emitidos por cada uno."
   ]
  },
  {
   "cell_type": "code",
   "execution_count": 7,
   "metadata": {},
   "outputs": [
    {
     "data": {
      "text/html": [
       "<div>\n",
       "<style scoped>\n",
       "    .dataframe tbody tr th:only-of-type {\n",
       "        vertical-align: middle;\n",
       "    }\n",
       "\n",
       "    .dataframe tbody tr th {\n",
       "        vertical-align: top;\n",
       "    }\n",
       "\n",
       "    .dataframe thead th {\n",
       "        text-align: right;\n",
       "    }\n",
       "</style>\n",
       "<table border=\"1\" class=\"dataframe\">\n",
       "  <thead>\n",
       "    <tr style=\"text-align: right;\">\n",
       "      <th></th>\n",
       "      <th>author.username</th>\n",
       "      <th>count</th>\n",
       "    </tr>\n",
       "  </thead>\n",
       "  <tbody>\n",
       "    <tr>\n",
       "      <th>0</th>\n",
       "      <td>helios_f</td>\n",
       "      <td>170</td>\n",
       "    </tr>\n",
       "    <tr>\n",
       "      <th>1</th>\n",
       "      <td>Reusantifa</td>\n",
       "      <td>113</td>\n",
       "    </tr>\n",
       "    <tr>\n",
       "      <th>2</th>\n",
       "      <td>_Maria_Dantas_</td>\n",
       "      <td>96</td>\n",
       "    </tr>\n",
       "    <tr>\n",
       "      <th>3</th>\n",
       "      <td>MohamedSaidBad2</td>\n",
       "      <td>91</td>\n",
       "    </tr>\n",
       "    <tr>\n",
       "      <th>4</th>\n",
       "      <td>MusulmanaDDHH</td>\n",
       "      <td>86</td>\n",
       "    </tr>\n",
       "    <tr>\n",
       "      <th>5</th>\n",
       "      <td>UCFRcat</td>\n",
       "      <td>84</td>\n",
       "    </tr>\n",
       "    <tr>\n",
       "      <th>6</th>\n",
       "      <td>Ali7Mohamed</td>\n",
       "      <td>82</td>\n",
       "    </tr>\n",
       "    <tr>\n",
       "      <th>7</th>\n",
       "      <td>vic_ga101</td>\n",
       "      <td>78</td>\n",
       "    </tr>\n",
       "    <tr>\n",
       "      <th>8</th>\n",
       "      <td>VilaWeb</td>\n",
       "      <td>75</td>\n",
       "    </tr>\n",
       "    <tr>\n",
       "      <th>9</th>\n",
       "      <td>silviasaiz_1714</td>\n",
       "      <td>74</td>\n",
       "    </tr>\n",
       "    <tr>\n",
       "      <th>10</th>\n",
       "      <td>FarahCubas</td>\n",
       "      <td>73</td>\n",
       "    </tr>\n",
       "    <tr>\n",
       "      <th>11</th>\n",
       "      <td>danillaortiz</td>\n",
       "      <td>73</td>\n",
       "    </tr>\n",
       "    <tr>\n",
       "      <th>12</th>\n",
       "      <td>zarcogrego</td>\n",
       "      <td>57</td>\n",
       "    </tr>\n",
       "    <tr>\n",
       "      <th>13</th>\n",
       "      <td>UCFR_Reus</td>\n",
       "      <td>49</td>\n",
       "    </tr>\n",
       "    <tr>\n",
       "      <th>14</th>\n",
       "      <td>ymouled</td>\n",
       "      <td>49</td>\n",
       "    </tr>\n",
       "    <tr>\n",
       "      <th>15</th>\n",
       "      <td>alxu_</td>\n",
       "      <td>47</td>\n",
       "    </tr>\n",
       "    <tr>\n",
       "      <th>16</th>\n",
       "      <td>anaoromi</td>\n",
       "      <td>47</td>\n",
       "    </tr>\n",
       "    <tr>\n",
       "      <th>17</th>\n",
       "      <td>centre_IRIDIA</td>\n",
       "      <td>45</td>\n",
       "    </tr>\n",
       "    <tr>\n",
       "      <th>18</th>\n",
       "      <td>ProuExpulsions</td>\n",
       "      <td>44</td>\n",
       "    </tr>\n",
       "    <tr>\n",
       "      <th>19</th>\n",
       "      <td>mbrugues</td>\n",
       "      <td>41</td>\n",
       "    </tr>\n",
       "  </tbody>\n",
       "</table>\n",
       "</div>"
      ],
      "text/plain": [
       "    author.username  count\n",
       "0          helios_f    170\n",
       "1        Reusantifa    113\n",
       "2    _Maria_Dantas_     96\n",
       "3   MohamedSaidBad2     91\n",
       "4     MusulmanaDDHH     86\n",
       "5           UCFRcat     84\n",
       "6       Ali7Mohamed     82\n",
       "7         vic_ga101     78\n",
       "8           VilaWeb     75\n",
       "9   silviasaiz_1714     74\n",
       "10       FarahCubas     73\n",
       "11     danillaortiz     73\n",
       "12       zarcogrego     57\n",
       "13        UCFR_Reus     49\n",
       "14          ymouled     49\n",
       "15            alxu_     47\n",
       "16         anaoromi     47\n",
       "17    centre_IRIDIA     45\n",
       "18   ProuExpulsions     44\n",
       "19         mbrugues     41"
      ]
     },
     "execution_count": 7,
     "metadata": {},
     "output_type": "execute_result"
    }
   ],
   "source": [
    "activity_ordered_users.head(20)"
   ]
  },
  {
   "cell_type": "markdown",
   "metadata": {},
   "source": [
    "Enriquecemos la tabla con más datos de los usuarios, restringiendola a los primeros N más activos. "
   ]
  },
  {
   "cell_type": "code",
   "execution_count": 8,
   "metadata": {},
   "outputs": [],
   "source": [
    "maus=[]\n",
    "N = 20\n",
    "tot_tweets=datadf['id'].count()\n",
    "for row1 in activity_ordered_users.head(N).iterrows():\n",
    "    rslt_df = datadf[datadf['author.username'] == row1[1]['author.username']]\n",
    "    maus.append(most_active_user(rslt_df.iloc[0]['author.username'],rslt_df,tot_tweets))\n",
    "mausdf=pd.DataFrame.from_records([s.to_dict() for s in maus])"
   ]
  },
  {
   "cell_type": "markdown",
   "metadata": {},
   "source": [
    "Calculamos el porcentage de trafico generado por los N primeros usuarios más activos, segun el resultado podemos decidir ampliar o reducir N. "
   ]
  },
  {
   "cell_type": "code",
   "execution_count": 9,
   "metadata": {},
   "outputs": [
    {
     "data": {
      "text/plain": [
       "3.65"
      ]
     },
     "execution_count": 9,
     "metadata": {},
     "output_type": "execute_result"
    }
   ],
   "source": [
    "mausdf['activity share(%)'].sum()"
   ]
  },
  {
   "cell_type": "code",
   "execution_count": 10,
   "metadata": {},
   "outputs": [
    {
     "data": {
      "text/html": [
       "<div>\n",
       "<style scoped>\n",
       "    .dataframe tbody tr th:only-of-type {\n",
       "        vertical-align: middle;\n",
       "    }\n",
       "\n",
       "    .dataframe tbody tr th {\n",
       "        vertical-align: top;\n",
       "    }\n",
       "\n",
       "    .dataframe thead th {\n",
       "        text-align: right;\n",
       "    }\n",
       "</style>\n",
       "<table border=\"1\" class=\"dataframe\">\n",
       "  <thead>\n",
       "    <tr style=\"text-align: right;\">\n",
       "      <th></th>\n",
       "      <th>username</th>\n",
       "      <th>profile mage</th>\n",
       "      <th>twitter id</th>\n",
       "      <th>created_at</th>\n",
       "      <th>description</th>\n",
       "      <th>activity share(%)</th>\n",
       "      <th>retweets</th>\n",
       "      <th>tweets</th>\n",
       "    </tr>\n",
       "  </thead>\n",
       "  <tbody>\n",
       "    <tr>\n",
       "      <th>0</th>\n",
       "      <td>helios_f</td>\n",
       "      <td>https://pbs.twimg.com/profile_images/161929877...</td>\n",
       "      <td>1194866907779915777</td>\n",
       "      <td>2019-11-14T06:37:41.000Z</td>\n",
       "      <td>✍🏽 en @ctxt_es, @ElSaltoDiario y en otros espa...</td>\n",
       "      <td>0.42</td>\n",
       "      <td>138</td>\n",
       "      <td>32</td>\n",
       "    </tr>\n",
       "    <tr>\n",
       "      <th>1</th>\n",
       "      <td>Reusantifa</td>\n",
       "      <td>https://pbs.twimg.com/profile_images/100043217...</td>\n",
       "      <td>1000431187238760449</td>\n",
       "      <td>2018-05-26T17:39:16.000Z</td>\n",
       "      <td>Xarxa antifeixista plural i diversa d'informac...</td>\n",
       "      <td>0.28</td>\n",
       "      <td>113</td>\n",
       "      <td>0</td>\n",
       "    </tr>\n",
       "    <tr>\n",
       "      <th>2</th>\n",
       "      <td>_Maria_Dantas_</td>\n",
       "      <td>https://pbs.twimg.com/profile_images/120222752...</td>\n",
       "      <td>87042194</td>\n",
       "      <td>2009-11-02T22:10:54.000Z</td>\n",
       "      <td>Sergipana, barcelonina, jurista, activista soc...</td>\n",
       "      <td>0.24</td>\n",
       "      <td>89</td>\n",
       "      <td>7</td>\n",
       "    </tr>\n",
       "    <tr>\n",
       "      <th>3</th>\n",
       "      <td>MohamedSaidBad2</td>\n",
       "      <td>https://pbs.twimg.com/profile_images/161038819...</td>\n",
       "      <td>1047388047095021568</td>\n",
       "      <td>2018-10-03T07:29:04.000Z</td>\n",
       "      <td>Musulmà i Activista social🕋🌍.\\nNo només ets re...</td>\n",
       "      <td>0.23</td>\n",
       "      <td>85</td>\n",
       "      <td>6</td>\n",
       "    </tr>\n",
       "    <tr>\n",
       "      <th>4</th>\n",
       "      <td>MusulmanaDDHH</td>\n",
       "      <td>https://pbs.twimg.com/profile_images/113885036...</td>\n",
       "      <td>1047861318924034050</td>\n",
       "      <td>2018-10-04T14:49:41.000Z</td>\n",
       "      <td>La Asociación Musulmana por los #DerechosHuman...</td>\n",
       "      <td>0.21</td>\n",
       "      <td>86</td>\n",
       "      <td>0</td>\n",
       "    </tr>\n",
       "  </tbody>\n",
       "</table>\n",
       "</div>"
      ],
      "text/plain": [
       "          username                                       profile mage  \\\n",
       "0         helios_f  https://pbs.twimg.com/profile_images/161929877...   \n",
       "1       Reusantifa  https://pbs.twimg.com/profile_images/100043217...   \n",
       "2   _Maria_Dantas_  https://pbs.twimg.com/profile_images/120222752...   \n",
       "3  MohamedSaidBad2  https://pbs.twimg.com/profile_images/161038819...   \n",
       "4    MusulmanaDDHH  https://pbs.twimg.com/profile_images/113885036...   \n",
       "\n",
       "            twitter id                created_at  \\\n",
       "0  1194866907779915777  2019-11-14T06:37:41.000Z   \n",
       "1  1000431187238760449  2018-05-26T17:39:16.000Z   \n",
       "2             87042194  2009-11-02T22:10:54.000Z   \n",
       "3  1047388047095021568  2018-10-03T07:29:04.000Z   \n",
       "4  1047861318924034050  2018-10-04T14:49:41.000Z   \n",
       "\n",
       "                                         description  activity share(%)  \\\n",
       "0  ✍🏽 en @ctxt_es, @ElSaltoDiario y en otros espa...               0.42   \n",
       "1  Xarxa antifeixista plural i diversa d'informac...               0.28   \n",
       "2  Sergipana, barcelonina, jurista, activista soc...               0.24   \n",
       "3  Musulmà i Activista social🕋🌍.\\nNo només ets re...               0.23   \n",
       "4  La Asociación Musulmana por los #DerechosHuman...               0.21   \n",
       "\n",
       "   retweets  tweets  \n",
       "0       138      32  \n",
       "1       113       0  \n",
       "2        89       7  \n",
       "3        85       6  \n",
       "4        86       0  "
      ]
     },
     "execution_count": 10,
     "metadata": {},
     "output_type": "execute_result"
    }
   ],
   "source": [
    "mausdf.head()"
   ]
  },
  {
   "cell_type": "markdown",
   "metadata": {},
   "source": [
    "Salvamos los datos en un formato que permite su visualización através esta plantilla de [fluorish](https://public.flourish.studio/visualisation/12665613/)"
   ]
  },
  {
   "cell_type": "code",
   "execution_count": 11,
   "metadata": {},
   "outputs": [],
   "source": [
    "mausdf.index = np.arange(1, len(mausdf)+1)\n",
    "mausdf.to_csv('../BADAOUImaus.csv')"
   ]
  }
 ],
 "metadata": {
  "kernelspec": {
   "display_name": "Python 3 (ipykernel)",
   "language": "python",
   "name": "python3"
  },
  "language_info": {
   "codemirror_mode": {
    "name": "ipython",
    "version": 3
   },
   "file_extension": ".py",
   "mimetype": "text/x-python",
   "name": "python",
   "nbconvert_exporter": "python",
   "pygments_lexer": "ipython3",
   "version": "3.8.10"
  }
 },
 "nbformat": 4,
 "nbformat_minor": 2
}
